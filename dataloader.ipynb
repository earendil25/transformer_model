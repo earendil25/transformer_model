{
 "cells": [
  {
   "cell_type": "code",
   "execution_count": 1,
   "metadata": {},
   "outputs": [],
   "source": [
    "import pandas as pd\n",
    "import numpy as np\n",
    "import time\n",
    "from quantnote import DataLoader\n",
    "\n",
    "quandl_key = ''\n",
    "fred_key = ''"
   ]
  },
  {
   "cell_type": "code",
   "execution_count": 3,
   "metadata": {},
   "outputs": [],
   "source": [
    "fred_list = [\n",
    "            'T10Y2Y', 'BAAFF', # interest rates\n",
    "            'M1SL', 'WM2NS',  # monetary data\n",
    "            'ICSA', 'UNRATE', # labor markets\n",
    "            'PCE', # national accoutns\n",
    "            'CPIAUCSL',  # prices\n",
    "            'INDPRO', # production\n",
    "            'PSAVERT', # personal saving rate\n",
    "            'ISRATIO', # Total Business: Inventories to Sales Ratio\n",
    "            'PALLFNFINDEXQ', # Price Index of All Commodities\n",
    "            'GDPC1', #GDP -Q\n",
    "            'IEAXGS', #Export -Q\n",
    "            'IEAMGSN', # Import -Q\n",
    "            ]"
   ]
  },
  {
   "cell_type": "code",
   "execution_count": 4,
   "metadata": {},
   "outputs": [
    {
     "name": "stdout",
     "output_type": "stream",
     "text": [
      "Downloading data in 1900/01/01--2021/09/11\n",
      "[update_macro] is executed in 22.38 seconds\n",
      "Trying bulk download for universe\n",
      "[update_universe] is executed in 30.07 seconds\n",
      "Trying bulk download for market in ./data/market.zip\n",
      "done\n",
      "[update_market] is executed in 661.74 seconds\n",
      "Trying API call for tickers\n",
      "[update_ticker] is executed in 3.19 seconds\n",
      "Trying API call for fundamentals\n",
      "[update_fundamentals] is executed in 318.33 seconds\n",
      "Trying bulk download for metric\n",
      "[update_metric] is executed in 534.50 seconds\n",
      "[*********************100%***********************]  9 of 9 completed\n",
      "[update_market_yf] is executed in 2.66 seconds\n",
      "[update_data] is executed in 1573.95 seconds\n",
      "DB has data from 1927-12-30 00:00:00 to 2021-09-10 00:00:00\n",
      "Data saved in ./MainDB_500.db\n",
      "[save_db] is executed in 65.36 seconds\n"
     ]
    }
   ],
   "source": [
    "DL = DataLoader(quandl_key=quandl_key, fred_key = fred_key, size = 500, db_name='./MainDB_500.db',\n",
    "          fred_list=fred_list, use_bulk = True)"
   ]
  },
  {
   "cell_type": "code",
   "execution_count": null,
   "metadata": {},
   "outputs": [],
   "source": []
  },
  {
   "cell_type": "code",
   "execution_count": null,
   "metadata": {},
   "outputs": [],
   "source": []
  },
  {
   "cell_type": "code",
   "execution_count": null,
   "metadata": {},
   "outputs": [],
   "source": []
  },
  {
   "cell_type": "code",
   "execution_count": null,
   "metadata": {},
   "outputs": [],
   "source": []
  },
  {
   "cell_type": "code",
   "execution_count": null,
   "metadata": {},
   "outputs": [],
   "source": []
  },
  {
   "cell_type": "code",
   "execution_count": null,
   "metadata": {},
   "outputs": [],
   "source": []
  }
 ],
 "metadata": {
  "kernelspec": {
   "display_name": "Python 3",
   "language": "python",
   "name": "python3"
  },
  "language_info": {
   "codemirror_mode": {
    "name": "ipython",
    "version": 3
   },
   "file_extension": ".py",
   "mimetype": "text/x-python",
   "name": "python",
   "nbconvert_exporter": "python",
   "pygments_lexer": "ipython3",
   "version": "3.8.5"
  }
 },
 "nbformat": 4,
 "nbformat_minor": 4
}
