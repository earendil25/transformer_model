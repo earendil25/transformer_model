{
 "cells": [
  {
   "cell_type": "code",
   "execution_count": 1,
   "metadata": {},
   "outputs": [
    {
     "data": {
      "image/png": "[encoded data removed]",
      "text/plain": [
       "<Figure size 432x288 with 1 Axes>"
      ]
     },
     "metadata": {
      "needs_background": "light"
     },
     "output_type": "display_data"
    }
   ],
   "source": [
    "import matplotlib.pyplot as plt\n",
    "\n",
    "plt.plot([1,2,3,4])\n",
    "\n",
    "import math\n",
    "import torch\n",
    "from torch import nn, Tensor\n",
    "import torch.nn.functional as F\n",
    "\n",
    "from torch.utils.data import DataLoader, Dataset\n",
    "from torchsummary import summary\n",
    "\n",
    "\n",
    "import pandas as pd\n",
    "import numpy as np\n",
    "import time\n",
    "\n",
    "from models import ensembleModel, resnetModel, transformerModel\n",
    "\n",
    "import sys\n",
    "from quantnote import BacktestEngine\n"
   ]
  },
  {
   "cell_type": "code",
   "execution_count": 2,
   "metadata": {},
   "outputs": [
    {
     "data": {
      "text/plain": [
       "'cuda'"
      ]
     },
     "execution_count": 2,
     "metadata": {},
     "output_type": "execute_result"
    }
   ],
   "source": [
    "device = 'cuda' if torch.cuda.is_available() else 'cpu'\n",
    "device"
   ]
  },
  {
   "cell_type": "markdown",
   "metadata": {},
   "source": [
    "#### Load datasets"
   ]
  },
  {
   "cell_type": "code",
   "execution_count": 3,
   "metadata": {},
   "outputs": [
    {
     "name": "stdout",
     "output_type": "stream",
     "text": [
      "Shape of X:  torch.Size([64, 60, 54])\n",
      "Shape of y:  torch.Size([64, 1]) torch.float64\n"
     ]
    }
   ],
   "source": [
    "class MyDataset(Dataset):\n",
    "    def __init__(self, feature_arr, label_arr):\n",
    "        self.feature_arr = feature_arr\n",
    "        self.label_arr = label_arr\n",
    "        assert len(feature_arr) == len(label_arr)\n",
    "        \n",
    "    def __len__(self):\n",
    "        return len(self.label_arr)\n",
    "\n",
    "    def __getitem__(self, idx):\n",
    "        feature = self.feature_arr[idx]\n",
    "        label = self.label_arr[idx]\n",
    "        return feature, label\n",
    "\n",
    "train_dataset_2018 = torch.load('train_datatset_2018-01-01.pt')\n",
    "val_dataset_2018 = torch.load('val_datatset_2018-01-01.pt')\n",
    "train_dataset_2019 = torch.load('train_datatset_2019-01-01.pt')\n",
    "val_dataset_2019 = torch.load('val_datatset_2019-01-01.pt')\n",
    "train_dataset_2020 = torch.load('train_datatset_2020-01-01.pt')\n",
    "val_dataset_2020 = torch.load('val_datatset_2020-01-01.pt')\n",
    "train_dataset_2021 = torch.load('train_datatset_2021-01-01.pt')\n",
    "val_dataset_2021 = torch.load('val_datatset_2021-01-01.pt')\n",
    "\n",
    "BATCH_SIZE = 64\n",
    "\n",
    "train_dataloader_18 = DataLoader(train_dataset_2018, batch_size=BATCH_SIZE, shuffle=True)\n",
    "val_dataloader_18 = DataLoader(val_dataset_2018, batch_size=BATCH_SIZE, shuffle=True)\n",
    "train_dataloader_19 = DataLoader(train_dataset_2019, batch_size=BATCH_SIZE, shuffle=True)\n",
    "val_dataloader_19 = DataLoader(val_dataset_2019, batch_size=BATCH_SIZE, shuffle=True)\n",
    "train_dataloader_20 = DataLoader(train_dataset_2020, batch_size=BATCH_SIZE, shuffle=True)\n",
    "val_dataloader_20 = DataLoader(val_dataset_2020, batch_size=BATCH_SIZE, shuffle=True)\n",
    "train_dataloader_21 = DataLoader(train_dataset_2021, batch_size=BATCH_SIZE, shuffle=True)\n",
    "val_dataloader_21 = DataLoader(val_dataset_2021, batch_size=BATCH_SIZE, shuffle=True)\n",
    "\n",
    "for X, y in train_dataloader_21:\n",
    "    print(\"Shape of X: \", X.shape)\n",
    "    print(\"Shape of y: \", y.shape, y.dtype)\n",
    "    break"
   ]
  },
  {
   "cell_type": "markdown",
   "metadata": {},
   "source": [
    "#### View featuer data"
   ]
  },
  {
   "cell_type": "code",
   "execution_count": 4,
   "metadata": {},
   "outputs": [
    {
     "data": {
      "text/plain": [
       "<matplotlib.image.AxesImage at 0x16b1b9686a0>"
      ]
     },
     "execution_count": 4,
     "metadata": {},
     "output_type": "execute_result"
    },
    {
     "data": {
      "image/png": "[encoded data removed]",
      "text/plain": [
       "<Figure size 360x360 with 1 Axes>"
      ]
     },
     "metadata": {
      "needs_background": "light"
     },
     "output_type": "display_data"
    }
   ],
   "source": [
    "fig,ax = plt.subplots(figsize=(5,5))\n",
    "ax.matshow(np.transpose(X[0]), cmap='RdBu')"
   ]
  },
  {
   "cell_type": "markdown",
   "metadata": {},
   "source": [
    "### Train & Test loop in pytorch"
   ]
  },
  {
   "cell_type": "code",
   "execution_count": 5,
   "metadata": {},
   "outputs": [],
   "source": [
    "def train_step(dataloader, model, loss_fn, optimizer):\n",
    "    size = len(dataloader.dataset)\n",
    "    model.train()\n",
    "    loss_list = []\n",
    "    correct, total_count = 0, 0\n",
    "    for batch, (X, y) in enumerate(dataloader):\n",
    "        X, y = X.to(device), y.to(device)\n",
    "        X = X.type(torch.cuda.FloatTensor)\n",
    "        \n",
    "        # Compute prediction error\n",
    "        pred = model(X)\n",
    "        loss = loss_fn(pred, y)\n",
    "        \n",
    "        total_count += len(y)\n",
    "        correct += ( (pred > 0)  == y).type(torch.float).sum().item()\n",
    "        accuracy = correct/total_count\n",
    "        \n",
    "        # Backpropagation\n",
    "        optimizer.zero_grad()\n",
    "        loss.backward()\n",
    "        optimizer.step()\n",
    "\n",
    "        if batch % 1 == 0:\n",
    "            loss, current = loss.item(), batch * len(X)\n",
    "            loss_list.append(loss)\n",
    "            avg_loss = np.mean(loss_list)\n",
    "            print(\n",
    "                f\"[Train metric] Accuracy: {(100*accuracy):>0.2f}%, train_loss: {avg_loss:>8f} ({total_count:>5d}/{size:>5d})\", \n",
    "                end='\\r')\n",
    "            \n",
    "    print(\n",
    "        f\"[Train metric] Accuracy: {(100*accuracy):>0.2f}%, train_loss: {avg_loss:>8f} ({total_count:>5d}/{size:>5d})\")\n",
    "    return avg_loss\n",
    "\n",
    "            \n",
    "def test_step(dataloader, model, loss_fn):\n",
    "    size = len(dataloader.dataset)\n",
    "    num_batches = len(dataloader)\n",
    "    model.eval()\n",
    "    test_loss, correct = 0, 0\n",
    "    with torch.no_grad():\n",
    "        for X, y in dataloader:\n",
    "            X, y = X.to(device), y.to(device)\n",
    "            X = X.type(torch.cuda.FloatTensor)\n",
    "            pred = model(X)\n",
    "            test_loss += loss_fn(pred, y).item()\n",
    "            correct += ( (pred > 0)  == y).type(torch.float).sum().item()\n",
    "    test_loss /= num_batches\n",
    "    correct /= size\n",
    "    print(f\"[Validation metric] Accuracy: {(100*correct):>0.2f}%, val_loss: {test_loss:>8f}\")\n",
    "    return test_loss\n",
    "\n",
    "\n",
    "def train(model,train_dataloader, val_dataloader, loss_fn, optimizer, patience=3, epochs=100, checkpoint_path='checkpoint.pt'):\n",
    "    train_loss_list = []\n",
    "    val_loss_list = []\n",
    "    stime = time.time()\n",
    "    for t in range(epochs):\n",
    "        print(f\"-------------------------------\\nEpoch {t+1}\")\n",
    "        train_loss = train_step(train_dataloader, model, loss_fn, optimizer)\n",
    "        val_loss = test_step(val_dataloader, model, loss_fn)\n",
    "        train_loss_list.append(train_loss)\n",
    "        val_loss_list.append(val_loss)\n",
    "\n",
    "        print('epoch time: {}'.format(time.time()-stime))\n",
    "        stime = time.time()\n",
    "\n",
    "        if val_loss == np.min(val_loss_list):\n",
    "            load_count = 0\n",
    "            torch.save({\n",
    "                'model_state_dict': model.state_dict(),\n",
    "                'optimizer_state_dict': optimizer.state_dict(),\n",
    "                }, checkpoint_path)\n",
    "\n",
    "        else:\n",
    "            load_count += 1\n",
    "            checkpoint = torch.load(checkpoint_path)\n",
    "            model.load_state_dict(checkpoint['model_state_dict'])\n",
    "            optimizer.load_state_dict(checkpoint['optimizer_state_dict'])\n",
    "\n",
    "            print('Model loaded. Current best loss = {}'.format(np.min(val_loss_list)))\n",
    "\n",
    "        if load_count >= patience:\n",
    "            break\n",
    "        \n",
    "    history = {}\n",
    "    history['train_loss'] = train_loss_list\n",
    "    history['val_loss'] = val_loss_list\n",
    "    print('Done')\n",
    "    return history"
   ]
  },
  {
   "cell_type": "markdown",
   "metadata": {},
   "source": [
    "### Train Ensemble model"
   ]
  },
  {
   "cell_type": "markdown",
   "metadata": {},
   "source": [
    "#### Define model for four data-sets"
   ]
  },
  {
   "cell_type": "code",
   "execution_count": 6,
   "metadata": {
    "scrolled": true
   },
   "outputs": [
    {
     "name": "stdout",
     "output_type": "stream",
     "text": [
      "8510979\n",
      "----------------------------------------------------------------\n",
      "        Layer (type)               Output Shape         Param #\n",
      "================================================================\n",
      "           Flatten-1                 [-1, 3240]               0\n",
      "            Linear-2                 [-1, 1024]       3,318,784\n",
      "            Linear-3                  [-1, 512]         524,800\n",
      "            Linear-4                 [-1, 1024]         525,312\n",
      "           Dropout-5                 [-1, 1024]               0\n",
      "            Linear-6                  [-1, 512]         524,800\n",
      "            Linear-7                  [-1, 256]         131,328\n",
      "            Linear-8                  [-1, 512]         131,584\n",
      "           Dropout-9                  [-1, 512]               0\n",
      "           Linear-10                    [-1, 1]             513\n",
      "      resnetModel-11                    [-1, 1]               0\n",
      "PositionalEncoding-12               [-1, 60, 54]               0\n",
      "           Linear-13              [-1, 60, 256]          14,080\n",
      "          Flatten-14                 [-1, 3240]               0\n",
      "           Linear-15                  [-1, 512]       1,659,392\n",
      "           Linear-16                  [-1, 256]         131,328\n",
      "MultiheadAttention-17  [[-1, 60, 256], [-1, 60, 60]]               0\n",
      "          Dropout-18              [-1, 60, 256]               0\n",
      "        LayerNorm-19              [-1, 60, 256]             512\n",
      "           Linear-20              [-1, 60, 512]         131,584\n",
      "          Dropout-21              [-1, 60, 512]               0\n",
      "           Linear-22              [-1, 60, 256]         131,328\n",
      "          Dropout-23              [-1, 60, 256]               0\n",
      "        LayerNorm-24              [-1, 60, 256]             512\n",
      "TransformerEncoderLayer-25              [-1, 60, 256]               0\n",
      "TransformerEncoder-26              [-1, 60, 256]               0\n",
      "MultiheadAttention-27  [[-1, 1, 256], [-1, 1, 1]]               0\n",
      "          Dropout-28               [-1, 1, 256]               0\n",
      "        LayerNorm-29               [-1, 1, 256]             512\n",
      "MultiheadAttention-30  [[-1, 1, 256], [-1, 1, 60]]               0\n",
      "          Dropout-31               [-1, 1, 256]               0\n",
      "        LayerNorm-32               [-1, 1, 256]             512\n",
      "           Linear-33               [-1, 1, 512]         131,584\n",
      "          Dropout-34               [-1, 1, 512]               0\n",
      "           Linear-35               [-1, 1, 256]         131,328\n",
      "          Dropout-36               [-1, 1, 256]               0\n",
      "        LayerNorm-37               [-1, 1, 256]             512\n",
      "TransformerDecoderLayer-38               [-1, 1, 256]               0\n",
      "TransformerDecoder-39               [-1, 1, 256]               0\n",
      "          Flatten-40                  [-1, 256]               0\n",
      "           Linear-41                  [-1, 512]         131,584\n",
      "          Dropout-42                  [-1, 512]               0\n",
      "           Linear-43                  [-1, 128]          65,664\n",
      "          Dropout-44                  [-1, 128]               0\n",
      "           Linear-45                    [-1, 1]             129\n",
      " transformerModel-46                    [-1, 1]               0\n",
      "           Linear-47                  [-1, 256]             768\n",
      "          Dropout-48                  [-1, 256]               0\n",
      "           Linear-49                  [-1, 128]          32,896\n",
      "          Dropout-50                  [-1, 128]               0\n",
      "           Linear-51                    [-1, 1]             129\n",
      "================================================================\n",
      "Total params: 7,721,475\n",
      "Trainable params: 7,721,475\n",
      "Non-trainable params: 0\n",
      "----------------------------------------------------------------\n",
      "Input size (MB): 0.01\n",
      "Forward/backward pass size (MB): 420.42\n",
      "Params size (MB): 29.46\n",
      "Estimated Total Size (MB): 449.89\n",
      "----------------------------------------------------------------\n",
      "None\n"
     ]
    }
   ],
   "source": [
    "with torch.no_grad():\n",
    "    torch.cuda.empty_cache()\n",
    "\n",
    "def count_parameters(model):\n",
    "    return sum(p.numel() for p in model.parameters() if p.requires_grad)\n",
    "\n",
    "ensemble_model_18 = ensembleModel().to(device)\n",
    "ensemble_model_19 = ensembleModel().to(device)\n",
    "ensemble_model_20 = ensembleModel().to(device)\n",
    "ensemble_model_21 = ensembleModel().to(device)\n",
    "\n",
    "print(count_parameters(ensemble_model_21))\n",
    "\n",
    "print(summary(ensemble_model_21, (60, 54) ))\n"
   ]
  },
  {
   "cell_type": "markdown",
   "metadata": {},
   "source": [
    "#### Train model for four data-sets"
   ]
  },
  {
   "cell_type": "code",
   "execution_count": 7,
   "metadata": {
    "scrolled": true
   },
   "outputs": [
    {
     "name": "stdout",
     "output_type": "stream",
     "text": [
      "-------------------------------\n",
      "Epoch 1\n",
      "[Train metric] Accuracy: 50.28%, train_loss: 0.695511 (46339/46339)\n",
      "[Validation metric] Accuracy: 49.65%, val_loss: 0.694032\n",
      "epoch time: 16.383653163909912\n",
      "-------------------------------\n",
      "Epoch 2\n",
      "[Train metric] Accuracy: 50.57%, train_loss: 0.694191 (46339/46339)\n",
      "[Validation metric] Accuracy: 53.24%, val_loss: 0.691077\n",
      "epoch time: 11.379285335540771\n",
      "-------------------------------\n",
      "Epoch 3\n",
      "[Train metric] Accuracy: 52.07%, train_loss: 0.692379 (46339/46339)\n",
      "[Validation metric] Accuracy: 51.46%, val_loss: 0.692587\n",
      "epoch time: 11.313771963119507\n",
      "Model loaded. Current best loss = 0.6910766922736186\n",
      "-------------------------------\n",
      "Epoch 4\n",
      "[Train metric] Accuracy: 51.84%, train_loss: 0.692532 (46339/46339)\n",
      "[Validation metric] Accuracy: 53.02%, val_loss: 0.690993\n",
      "epoch time: 11.415107250213623\n",
      "-------------------------------\n",
      "Epoch 5\n",
      "[Train metric] Accuracy: 54.00%, train_loss: 0.689217 (46339/46339)\n",
      "[Validation metric] Accuracy: 53.73%, val_loss: 0.687984\n",
      "epoch time: 11.426309823989868\n",
      "-------------------------------\n",
      "Epoch 6\n",
      "[Train metric] Accuracy: 55.52%, train_loss: 0.685079 (46339/46339)\n",
      "[Validation metric] Accuracy: 54.84%, val_loss: 0.685607\n",
      "epoch time: 11.28742527961731\n",
      "-------------------------------\n",
      "Epoch 7\n",
      "[Train metric] Accuracy: 57.08%, train_loss: 0.678418 (46339/46339)\n",
      "[Validation metric] Accuracy: 55.60%, val_loss: 0.682835\n",
      "epoch time: 11.362914800643921\n",
      "-------------------------------\n",
      "Epoch 8\n",
      "[Train metric] Accuracy: 58.55%, train_loss: 0.671199 (46339/46339)\n",
      "[Validation metric] Accuracy: 55.49%, val_loss: 0.683728\n",
      "epoch time: 11.382944107055664\n",
      "Model loaded. Current best loss = 0.6828347078108492\n",
      "-------------------------------\n",
      "Epoch 9\n",
      "[Train metric] Accuracy: 58.51%, train_loss: 0.671546 (46339/46339)\n",
      "[Validation metric] Accuracy: 56.42%, val_loss: 0.682030\n",
      "epoch time: 11.211877346038818\n",
      "-------------------------------\n",
      "Epoch 10\n",
      "[Train metric] Accuracy: 60.03%, train_loss: 0.661839 (46339/46339)\n",
      "[Validation metric] Accuracy: 56.51%, val_loss: 0.680082\n",
      "epoch time: 11.299140691757202\n",
      "-------------------------------\n",
      "Epoch 11\n",
      "[Train metric] Accuracy: 61.59%, train_loss: 0.652012 (46339/46339)\n",
      "[Validation metric] Accuracy: 56.43%, val_loss: 0.682651\n",
      "epoch time: 11.276268720626831\n",
      "Model loaded. Current best loss = 0.6800818618521589\n",
      "-------------------------------\n",
      "Epoch 12\n",
      "[Train metric] Accuracy: 61.87%, train_loss: 0.651730 (46339/46339)\n",
      "[Validation metric] Accuracy: 56.72%, val_loss: 0.682164\n",
      "epoch time: 11.417478322982788\n",
      "Model loaded. Current best loss = 0.6800818618521589\n",
      "-------------------------------\n",
      "Epoch 13\n",
      "[Train metric] Accuracy: 61.52%, train_loss: 0.651919 (46339/46339)\n",
      "[Validation metric] Accuracy: 56.90%, val_loss: 0.677048\n",
      "epoch time: 11.2833890914917\n",
      "-------------------------------\n",
      "Epoch 14\n",
      "[Train metric] Accuracy: 63.05%, train_loss: 0.639118 (46339/46339)\n",
      "[Validation metric] Accuracy: 56.81%, val_loss: 0.680013\n",
      "epoch time: 11.332251071929932\n",
      "Model loaded. Current best loss = 0.6770475343828264\n",
      "-------------------------------\n",
      "Epoch 15\n",
      "[Train metric] Accuracy: 63.12%, train_loss: 0.639324 (46339/46339)\n",
      "[Validation metric] Accuracy: 56.19%, val_loss: 0.678331\n",
      "epoch time: 11.255242109298706\n",
      "Model loaded. Current best loss = 0.6770475343828264\n",
      "-------------------------------\n",
      "Epoch 16\n",
      "[Train metric] Accuracy: 63.19%, train_loss: 0.638765 (46339/46339)\n",
      "[Validation metric] Accuracy: 57.28%, val_loss: 0.683923\n",
      "epoch time: 11.277015686035156\n",
      "Model loaded. Current best loss = 0.6770475343828264\n",
      "Done\n"
     ]
    }
   ],
   "source": [
    "loss_fn = nn.BCEWithLogitsLoss().to(device)\n",
    "optimizer = torch.optim.Adam(ensemble_model_18.parameters(), lr=10**(-4.))\n",
    "history_18 =train(ensemble_model_18, train_dataloader_18, val_dataloader_18, loss_fn, optimizer, \n",
    "                  patience=3, epochs=1000, checkpoint_path='checkpoint_18.pt')"
   ]
  },
  {
   "cell_type": "code",
   "execution_count": 8,
   "metadata": {},
   "outputs": [
    {
     "data": {
      "text/plain": [
       "0.6790273365544779"
      ]
     },
     "execution_count": 8,
     "metadata": {},
     "output_type": "execute_result"
    }
   ],
   "source": [
    "0.6790273365544779"
   ]
  },
  {
   "cell_type": "code",
   "execution_count": 9,
   "metadata": {
    "scrolled": true
   },
   "outputs": [
    {
     "name": "stdout",
     "output_type": "stream",
     "text": [
      "-------------------------------\n",
      "Epoch 1\n",
      "[Train metric] Accuracy: 50.29%, train_loss: 0.695262 (52033/52033)\n",
      "[Validation metric] Accuracy: 50.08%, val_loss: 0.693355\n",
      "epoch time: 14.145462989807129\n",
      "-------------------------------\n",
      "Epoch 2\n",
      "[Train metric] Accuracy: 50.36%, train_loss: 0.694228 (52033/52033)\n",
      "[Validation metric] Accuracy: 52.17%, val_loss: 0.692494\n",
      "epoch time: 12.831835508346558\n",
      "-------------------------------\n",
      "Epoch 3\n",
      "[Train metric] Accuracy: 51.92%, train_loss: 0.692069 (52033/52033)\n",
      "[Validation metric] Accuracy: 53.36%, val_loss: 0.690018\n",
      "epoch time: 12.817432641983032\n",
      "-------------------------------\n",
      "Epoch 4\n",
      "[Train metric] Accuracy: 53.28%, train_loss: 0.689981 (52033/52033)\n",
      "[Validation metric] Accuracy: 53.80%, val_loss: 0.688276\n",
      "epoch time: 13.028200626373291\n",
      "-------------------------------\n",
      "Epoch 5\n",
      "[Train metric] Accuracy: 55.16%, train_loss: 0.684892 (52033/52033)\n",
      "[Validation metric] Accuracy: 54.64%, val_loss: 0.686137\n",
      "epoch time: 13.167154550552368\n",
      "-------------------------------\n",
      "Epoch 6\n",
      "[Train metric] Accuracy: 57.06%, train_loss: 0.679155 (52033/52033)\n",
      "[Validation metric] Accuracy: 54.94%, val_loss: 0.683364\n",
      "epoch time: 12.997554779052734\n",
      "-------------------------------\n",
      "Epoch 7\n",
      "[Train metric] Accuracy: 58.29%, train_loss: 0.671591 (52033/52033)\n",
      "[Validation metric] Accuracy: 56.06%, val_loss: 0.680139\n",
      "epoch time: 12.88872218132019\n",
      "-------------------------------\n",
      "Epoch 8\n",
      "[Train metric] Accuracy: 59.99%, train_loss: 0.662101 (52033/52033)\n",
      "[Validation metric] Accuracy: 56.76%, val_loss: 0.679607\n",
      "epoch time: 12.882532596588135\n",
      "-------------------------------\n",
      "Epoch 9\n",
      "[Train metric] Accuracy: 61.33%, train_loss: 0.653022 (52033/52033)\n",
      "[Validation metric] Accuracy: 56.94%, val_loss: 0.674388\n",
      "epoch time: 12.932338953018188\n",
      "-------------------------------\n",
      "Epoch 10\n",
      "[Train metric] Accuracy: 63.30%, train_loss: 0.639516 (52033/52033)\n",
      "[Validation metric] Accuracy: 56.99%, val_loss: 0.676403\n",
      "epoch time: 13.158317565917969\n",
      "Model loaded. Current best loss = 0.6743883939209233\n",
      "-------------------------------\n",
      "Epoch 11\n",
      "[Train metric] Accuracy: 63.18%, train_loss: 0.640397 (52033/52033)\n",
      "[Validation metric] Accuracy: 57.55%, val_loss: 0.675757\n",
      "epoch time: 13.216831684112549\n",
      "Model loaded. Current best loss = 0.6743883939209233\n",
      "-------------------------------\n",
      "Epoch 12\n",
      "[Train metric] Accuracy: 63.11%, train_loss: 0.639645 (52033/52033)\n",
      "[Validation metric] Accuracy: 57.33%, val_loss: 0.678169\n",
      "epoch time: 13.04033899307251\n",
      "Model loaded. Current best loss = 0.6743883939209233\n",
      "Done\n"
     ]
    }
   ],
   "source": [
    "loss_fn = nn.BCEWithLogitsLoss().to(device)\n",
    "optimizer = torch.optim.Adam(ensemble_model_19.parameters(), lr=10**(-4.))\n",
    "history_19 =train(ensemble_model_19, train_dataloader_19, val_dataloader_19, loss_fn, optimizer, \n",
    "                  patience=3, epochs=1000, checkpoint_path='checkpoint_19.pt')"
   ]
  },
  {
   "cell_type": "code",
   "execution_count": 10,
   "metadata": {},
   "outputs": [
    {
     "data": {
      "text/plain": [
       "0.6768294121066922"
      ]
     },
     "execution_count": 10,
     "metadata": {},
     "output_type": "execute_result"
    }
   ],
   "source": [
    "0.6768294121066922"
   ]
  },
  {
   "cell_type": "code",
   "execution_count": 11,
   "metadata": {
    "scrolled": true
   },
   "outputs": [
    {
     "name": "stdout",
     "output_type": "stream",
     "text": [
      "-------------------------------\n",
      "Epoch 1\n",
      "[Train metric] Accuracy: 50.31%, train_loss: 0.694691 (58161/58161)\n",
      "[Validation metric] Accuracy: 50.97%, val_loss: 0.692666\n",
      "epoch time: 15.593602895736694\n",
      "-------------------------------\n",
      "Epoch 2\n",
      "[Train metric] Accuracy: 50.31%, train_loss: 0.693949 (58161/58161)\n",
      "[Validation metric] Accuracy: 52.33%, val_loss: 0.691116\n",
      "epoch time: 14.58699893951416\n",
      "-------------------------------\n",
      "Epoch 3\n",
      "[Train metric] Accuracy: 51.89%, train_loss: 0.691686 (58161/58161)\n",
      "[Validation metric] Accuracy: 54.04%, val_loss: 0.688506\n",
      "epoch time: 14.413132905960083\n",
      "-------------------------------\n",
      "Epoch 4\n",
      "[Train metric] Accuracy: 54.03%, train_loss: 0.687868 (58161/58161)\n",
      "[Validation metric] Accuracy: 53.77%, val_loss: 0.688181\n",
      "epoch time: 14.45218014717102\n",
      "-------------------------------\n",
      "Epoch 5\n",
      "[Train metric] Accuracy: 55.68%, train_loss: 0.682592 (58161/58161)\n",
      "[Validation metric] Accuracy: 55.45%, val_loss: 0.683105\n",
      "epoch time: 14.345380306243896\n",
      "-------------------------------\n",
      "Epoch 6\n",
      "[Train metric] Accuracy: 57.40%, train_loss: 0.675648 (58161/58161)\n",
      "[Validation metric] Accuracy: 56.09%, val_loss: 0.680906\n",
      "epoch time: 14.698559999465942\n",
      "-------------------------------\n",
      "Epoch 7\n",
      "[Train metric] Accuracy: 58.94%, train_loss: 0.668153 (58161/58161)\n",
      "[Validation metric] Accuracy: 56.88%, val_loss: 0.677333\n",
      "epoch time: 14.684947729110718\n",
      "-------------------------------\n",
      "Epoch 8\n",
      "[Train metric] Accuracy: 60.94%, train_loss: 0.655697 (58161/58161)\n",
      "[Validation metric] Accuracy: 57.27%, val_loss: 0.674240\n",
      "epoch time: 14.4120352268219\n",
      "-------------------------------\n",
      "Epoch 9\n",
      "[Train metric] Accuracy: 62.32%, train_loss: 0.644971 (58161/58161)\n",
      "[Validation metric] Accuracy: 57.15%, val_loss: 0.674484\n",
      "epoch time: 14.532751321792603\n",
      "Model loaded. Current best loss = 0.6742400367790986\n",
      "-------------------------------\n",
      "Epoch 10\n",
      "[Train metric] Accuracy: 62.66%, train_loss: 0.643095 (58161/58161)\n",
      "[Validation metric] Accuracy: 58.01%, val_loss: 0.674353\n",
      "epoch time: 14.60167121887207\n",
      "Model loaded. Current best loss = 0.6742400367790986\n",
      "-------------------------------\n",
      "Epoch 11\n",
      "[Train metric] Accuracy: 62.57%, train_loss: 0.643624 (58161/58161)\n",
      "[Validation metric] Accuracy: 57.54%, val_loss: 0.674260\n",
      "epoch time: 14.299027681350708\n",
      "Model loaded. Current best loss = 0.6742400367790986\n",
      "Done\n"
     ]
    }
   ],
   "source": [
    "loss_fn = nn.BCEWithLogitsLoss().to(device)\n",
    "optimizer = torch.optim.Adam(ensemble_model_20.parameters(), lr=10**(-4.))\n",
    "history_20 =train(ensemble_model_20, train_dataloader_20, val_dataloader_20, loss_fn, optimizer, \n",
    "                  patience=3, epochs=1000, checkpoint_path='checkpoint_20.pt')"
   ]
  },
  {
   "cell_type": "code",
   "execution_count": 12,
   "metadata": {},
   "outputs": [
    {
     "data": {
      "text/plain": [
       "0.6762133206760511"
      ]
     },
     "execution_count": 12,
     "metadata": {},
     "output_type": "execute_result"
    }
   ],
   "source": [
    "0.6762133206760511"
   ]
  },
  {
   "cell_type": "code",
   "execution_count": 13,
   "metadata": {
    "scrolled": true
   },
   "outputs": [
    {
     "name": "stdout",
     "output_type": "stream",
     "text": [
      "-------------------------------\n",
      "Epoch 1\n",
      "[Train metric] Accuracy: 50.87%, train_loss: 0.694158 (64193/64193)\n",
      "[Validation metric] Accuracy: 50.73%, val_loss: 0.693366\n",
      "epoch time: 16.053611516952515\n",
      "-------------------------------\n",
      "Epoch 2\n",
      "[Train metric] Accuracy: 52.61%, train_loss: 0.691289 (64193/64193)\n",
      "[Validation metric] Accuracy: 53.25%, val_loss: 0.689553\n",
      "epoch time: 15.891910314559937\n",
      "-------------------------------\n",
      "Epoch 3\n",
      "[Train metric] Accuracy: 54.42%, train_loss: 0.686664 (64193/64193)\n",
      "[Validation metric] Accuracy: 53.88%, val_loss: 0.687062\n",
      "epoch time: 15.95283579826355\n",
      "-------------------------------\n",
      "Epoch 4\n",
      "[Train metric] Accuracy: 56.18%, train_loss: 0.681423 (64193/64193)\n",
      "[Validation metric] Accuracy: 55.16%, val_loss: 0.683898\n",
      "epoch time: 15.945562601089478\n",
      "-------------------------------\n",
      "Epoch 5\n",
      "[Train metric] Accuracy: 57.92%, train_loss: 0.673802 (64193/64193)\n",
      "[Validation metric] Accuracy: 55.67%, val_loss: 0.682513\n",
      "epoch time: 16.02304220199585\n",
      "-------------------------------\n",
      "Epoch 6\n",
      "[Train metric] Accuracy: 59.42%, train_loss: 0.665488 (64193/64193)\n",
      "[Validation metric] Accuracy: 56.81%, val_loss: 0.678790\n",
      "epoch time: 15.988460063934326\n",
      "-------------------------------\n",
      "Epoch 7\n",
      "[Train metric] Accuracy: 61.12%, train_loss: 0.654548 (64193/64193)\n",
      "[Validation metric] Accuracy: 56.94%, val_loss: 0.677476\n",
      "epoch time: 16.170095443725586\n",
      "-------------------------------\n",
      "Epoch 8\n",
      "[Train metric] Accuracy: 62.71%, train_loss: 0.641403 (64193/64193)\n",
      "[Validation metric] Accuracy: 57.27%, val_loss: 0.680235\n",
      "epoch time: 16.144578218460083\n",
      "Model loaded. Current best loss = 0.6774764622290028\n",
      "-------------------------------\n",
      "Epoch 9\n",
      "[Train metric] Accuracy: 62.57%, train_loss: 0.641893 (64193/64193)\n",
      "[Validation metric] Accuracy: 56.92%, val_loss: 0.677808\n",
      "epoch time: 16.03909134864807\n",
      "Model loaded. Current best loss = 0.6774764622290028\n",
      "-------------------------------\n",
      "Epoch 10\n",
      "[Train metric] Accuracy: 62.66%, train_loss: 0.642836 (64193/64193)\n",
      "[Validation metric] Accuracy: 57.52%, val_loss: 0.676645\n",
      "epoch time: 16.013033628463745\n",
      "-------------------------------\n",
      "Epoch 11\n",
      "[Train metric] Accuracy: 64.48%, train_loss: 0.628246 (64193/64193)\n",
      "[Validation metric] Accuracy: 57.87%, val_loss: 0.675185\n",
      "epoch time: 16.435399293899536\n",
      "-------------------------------\n",
      "Epoch 12\n",
      "[Train metric] Accuracy: 65.95%, train_loss: 0.612453 (64193/64193)\n",
      "[Validation metric] Accuracy: 57.54%, val_loss: 0.682335\n",
      "epoch time: 16.139240026474\n",
      "Model loaded. Current best loss = 0.6751848934664159\n",
      "-------------------------------\n",
      "Epoch 13\n",
      "[Train metric] Accuracy: 65.91%, train_loss: 0.612776 (64193/64193)\n",
      "[Validation metric] Accuracy: 57.51%, val_loss: 0.679464\n",
      "epoch time: 15.947838068008423\n",
      "Model loaded. Current best loss = 0.6751848934664159\n",
      "-------------------------------\n",
      "Epoch 14\n",
      "[Train metric] Accuracy: 65.99%, train_loss: 0.612517 (64193/64193)\n",
      "[Validation metric] Accuracy: 57.82%, val_loss: 0.675991\n",
      "epoch time: 16.024007081985474\n",
      "Model loaded. Current best loss = 0.6751848934664159\n",
      "Done\n"
     ]
    }
   ],
   "source": [
    "loss_fn = nn.BCEWithLogitsLoss().to(device)\n",
    "optimizer = torch.optim.Adam(ensemble_model_21.parameters(), lr=10**(-4.))\n",
    "history_21 =train(ensemble_model_21, train_dataloader_21, val_dataloader_21, loss_fn, optimizer, \n",
    "                  patience=3, epochs=1000, checkpoint_path='checkpoint_21.pt')"
   ]
  },
  {
   "cell_type": "code",
   "execution_count": 14,
   "metadata": {},
   "outputs": [
    {
     "data": {
      "text/plain": [
       "0.6775109532390579"
      ]
     },
     "execution_count": 14,
     "metadata": {},
     "output_type": "execute_result"
    }
   ],
   "source": [
    "0.6775109532390579"
   ]
  },
  {
   "cell_type": "code",
   "execution_count": null,
   "metadata": {},
   "outputs": [],
   "source": []
  },
  {
   "cell_type": "code",
   "execution_count": null,
   "metadata": {},
   "outputs": [],
   "source": []
  },
  {
   "cell_type": "code",
   "execution_count": null,
   "metadata": {},
   "outputs": [],
   "source": []
  },
  {
   "cell_type": "code",
   "execution_count": null,
   "metadata": {},
   "outputs": [],
   "source": []
  },
  {
   "cell_type": "code",
   "execution_count": null,
   "metadata": {},
   "outputs": [],
   "source": []
  },
  {
   "cell_type": "code",
   "execution_count": null,
   "metadata": {},
   "outputs": [],
   "source": []
  },
  {
   "cell_type": "code",
   "execution_count": null,
   "metadata": {},
   "outputs": [],
   "source": []
  },
  {
   "cell_type": "code",
   "execution_count": null,
   "metadata": {},
   "outputs": [],
   "source": []
  }
 ],
 "metadata": {
  "kernelspec": {
   "display_name": "Python 3",
   "language": "python",
   "name": "python3"
  },
  "language_info": {
   "codemirror_mode": {
    "name": "ipython",
    "version": 3
   },
   "file_extension": ".py",
   "mimetype": "text/x-python",
   "name": "python",
   "nbconvert_exporter": "python",
   "pygments_lexer": "ipython3",
   "version": "3.8.5"
  }
 },
 "nbformat": 4,
 "nbformat_minor": 4
}
